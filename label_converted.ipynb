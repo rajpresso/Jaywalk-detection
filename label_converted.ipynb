{
 "cells": [
  {
   "cell_type": "code",
   "execution_count": 1,
   "metadata": {},
   "outputs": [
    {
     "data": {
      "text/plain": [
       "'/home/alpaco/sejong-jsw/Last_Final'"
      ]
     },
     "execution_count": 1,
     "metadata": {},
     "output_type": "execute_result"
    }
   ],
   "source": [
    "%pwd"
   ]
  },
  {
   "cell_type": "code",
   "execution_count": 4,
   "metadata": {},
   "outputs": [],
   "source": [
    "import os\n",
    "\n",
    "convert_tmp_labels = 'evaluationData/tmp_label'\n",
    "read_labels = 'evaluationData/labels'\n",
    "os.makedirs(convert_tmp_labels, exist_ok=True)\n",
    "\n",
    "for input_file in os.listdir(read_labels):\n",
    "    # 파일 경로 설정\n",
    "    input_file_path = os.path.join(read_labels, input_file)\n",
    "    output_file_path = os.path.join(convert_tmp_labels, input_file)\n",
    "\n",
    "    # 파일 읽기\n",
    "    with open(input_file_path, 'r') as file:\n",
    "        # 모든 내용을 읽어와서 한 줄로 가져오기\n",
    "        line = file.readline().strip()  # 한 줄 읽기\n",
    "\n",
    "    # 37글자씩 분할하여 새로운 형식으로 저장\n",
    "    with open(output_file_path, 'w') as file:\n",
    "        for i in range(0, len(line), 37):\n",
    "            segment = line[i:i + 37]  # 37글자씩 가져오기\n",
    "            file.write(f\"{segment}\\n\")  # 파일에 저장"
   ]
  },
  {
   "cell_type": "code",
   "execution_count": 6,
   "metadata": {
    "colab": {
     "base_uri": "https://localhost:8080/"
    },
    "executionInfo": {
     "elapsed": 17632,
     "status": "ok",
     "timestamp": 1730335071663,
     "user": {
      "displayName": "Alex Jung",
      "userId": "00881439150404867646"
     },
     "user_tz": -540
    },
    "id": "fejwFrcK9I9M",
    "outputId": "b136a0e7-9395-4144-ccc6-beee20fae679"
   },
   "outputs": [
    {
     "name": "stdout",
     "output_type": "stream",
     "text": [
      "Warning: Not enough values in line: 7\n",
      "완료\n"
     ]
    }
   ],
   "source": [
    "import os\n",
    "from PIL import Image\n",
    "import numpy as np\n",
    "\n",
    "image_path = 'evaluationData/images'\n",
    "# output_labels = 'evalutionData/labels'\n",
    "convert_labels = 'evaluationData/converted_labels'\n",
    "output_converted_labels = 'evaluationData/converted_labels'  # 변환된 레이블을 저장할 폴더\n",
    "os.makedirs(output_converted_labels, exist_ok=True)  # 폴더 생성\n",
    "\n",
    "flist = []\n",
    "\n",
    "for txt_file in os.listdir(convert_tmp_labels):\n",
    "    # 이미지 파일 이름 추출\n",
    "    name = os.path.basename(txt_file).replace('.txt', '.jpg')\n",
    "    image_name = os.path.join(image_path, name)\n",
    "\n",
    "    # 이미지 열기 및 크기 가져오기\n",
    "    image = Image.open(image_name)\n",
    "    np_img = np.array(image)\n",
    "    img_height, img_width = np_img.shape[0], np_img.shape[1]\n",
    "\n",
    "    # 변환된 레이블 파일을 새로 생성\n",
    "    converted_file_path = os.path.join(output_converted_labels, txt_file)\n",
    "    ls = '0'\n",
    "    ld = '0'\n",
    "    \n",
    "    with open(os.path.join(convert_tmp_labels, txt_file), 'r') as file, open(converted_file_path, 'w') as converted_file:\n",
    "        for line in file:\n",
    "            if not line.strip():\n",
    "              continue\n",
    "            # 라벨을 공백으로 나누기\n",
    "            values = line.strip().split()\n",
    "            if len(values) < 5:  # 최소 5개 값 체크\n",
    "                print(f\"Warning: Not enough values in line: {line.strip()}\")\n",
    "                continue\n",
    "            label = values[0]  # 클래스 레이블\n",
    "            x_center = float(values[1])\n",
    "            y_center = float(values[2])\n",
    "            width = float(values[3])\n",
    "            height = float(values[4])\n",
    "\n",
    "        # 0: 무단횡단 보행자, 3: 우산을 쓴 무단횡단 보행자\n",
    "        # 1: 횡단보도 보행자, 4: 우산을 쓴 횡단보도 보행자\n",
    "        # 2: 인도 보행자, 5: 우산을 쓴 인도 보행자\n",
    "        \n",
    "            if label ==  '4':\n",
    "                label = '1'\n",
    "            elif label == '3':\n",
    "                label = '0'\n",
    "            # elif label == '3':\n",
    "            #     label = '0' \n",
    "            # elif label == '3':\n",
    "            #     label = '0'  \n",
    "            # elif label == '3':\n",
    "            #     label = '0'\n",
    "                \n",
    "                \n",
    "            if label == 0:\n",
    "                ls = '1'\n",
    "            if label == 1:\n",
    "                ld = '1'\n",
    "            if  ls == '1' and ld =='1':\n",
    "                print()\n",
    "                flist.append(txt_file)\n",
    "                \n",
    "                   \n",
    "\n",
    "            # xmin, ymin, xmax, ymax 계산\n",
    "            x1 = int(x_center * img_width - (width * img_width) // 2)\n",
    "            x2 = int(x_center * img_width + (width * img_width) // 2)\n",
    "            y1 = int(y_center * img_height - (height * img_height) // 2)\n",
    "            y2 = int(y_center * img_height + (height * img_height) // 2)\n",
    "\n",
    "            # 변환된 결과를 저장\n",
    "            converted_file.write(f\"{label} {x1} {y1} {x2} {y2}\\n\")\n",
    "\n",
    "    # print(f\"Converted and saved: {converted_file_path}\")\n",
    "print(\"완료\")\n"
   ]
  },
  {
   "cell_type": "code",
   "execution_count": 4,
   "metadata": {
    "executionInfo": {
     "elapsed": 10527,
     "status": "ok",
     "timestamp": 1730335158982,
     "user": {
      "displayName": "Alex Jung",
      "userId": "00881439150404867646"
     },
     "user_tz": -540
    },
    "id": "stIbKZvsBONW"
   },
   "outputs": [],
   "source": [
    "import shutil\n",
    "# 원본 경로\n",
    "source_path = '/content/new_converted_labels'\n",
    "\n",
    "# 목적지 경로\n",
    "destination_path = '/content/drive/MyDrive/Sejong/converted_labels'\n",
    "\n",
    "# 목적지 경로가 없으면 생성\n",
    "if not os.path.exists(destination_path):\n",
    "    os.makedirs(destination_path)\n",
    "\n",
    "# '/content' 경로에 있는 모든 파일과 폴더를 이동\n",
    "for filename in os.listdir(source_path):\n",
    "    file_path = os.path.join(source_path, filename)\n",
    "    if os.path.isfile(file_path) or os.path.isdir(file_path):\n",
    "        shutil.move(file_path, destination_path)"
   ]
  },
  {
   "cell_type": "code",
   "execution_count": 5,
   "metadata": {
    "executionInfo": {
     "elapsed": 401,
     "status": "ok",
     "timestamp": 1730335192119,
     "user": {
      "displayName": "Alex Jung",
      "userId": "00881439150404867646"
     },
     "user_tz": -540
    },
    "id": "-b2sNN7oBpnY"
   },
   "outputs": [],
   "source": [
    "for i in os.listdir('/content/drive/MyDrive/Sejong'):\n",
    "  if i.endswith('.txt'):\n",
    "    name=  os.path.join('/content',i)\n",
    "    os.remov"
   ]
  }
 ],
 "metadata": {
  "colab": {
   "authorship_tag": "ABX9TyPZJNV+TVm6DiiiNehF3jZS",
   "mount_file_id": "1-9WSx-ji5zbytm6OKIdpYx3JIoK-qZgS",
   "provenance": []
  },
  "kernelspec": {
   "display_name": "rsj",
   "language": "python",
   "name": "python3"
  },
  "language_info": {
   "codemirror_mode": {
    "name": "ipython",
    "version": 3
   },
   "file_extension": ".py",
   "mimetype": "text/x-python",
   "name": "python",
   "nbconvert_exporter": "python",
   "pygments_lexer": "ipython3",
   "version": "3.9.0"
  }
 },
 "nbformat": 4,
 "nbformat_minor": 0
}
